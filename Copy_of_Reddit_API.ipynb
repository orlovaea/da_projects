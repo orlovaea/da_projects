{
 "cells": [
  {
   "cell_type": "markdown",
   "metadata": {
    "id": "aiQ0ntBo9L21"
   },
   "source": [
    "# Scraping Reddit Data  "
   ]
  },
  {
   "cell_type": "markdown",
   "metadata": {
    "id": "zfmIPcS29L28"
   },
   "source": [
    "<table align=\"left\"><td>\n",
    "  <a target=\"_blank\"  href=\"https://colab.research.google.com/github/TannerGilbert/Tutorials/blob/master/Reddit%20Webscraping%20using%20PRAW/Reddit%20API.ipynb\">\n",
    "    <img src=\"https://www.tensorflow.org/images/colab_logo_32px.png\" />Run in Google Colab\n",
    "  </a>\n",
    "</td><td>\n",
    "  <a target=\"_blank\"  href=\"https://github.com/TannerGilbert/Tutorials/blob/master/Reddit%20Webscraping%20using%20PRAW/Reddit%20API.ipynb\">\n",
    "    <img width=32px src=\"https://www.tensorflow.org/images/GitHub-Mark-32px.png\" />View source on GitHub</a>\n",
    "</td></table>"
   ]
  },
  {
   "cell_type": "markdown",
   "metadata": {
    "id": "qRWeB9Ye9L2-"
   },
   "source": [
    "![](https://www.redditstatic.com/new-icon.png)  \n",
    "Using the PRAW library, a wrapper for the Reddit API, everyone can easily scrape data from Reddit or even create a Reddit bot."
   ]
  },
  {
   "cell_type": "code",
   "execution_count": 1,
   "metadata": {
    "colab": {
     "base_uri": "https://localhost:8080/"
    },
    "id": "AyhGsna29L2_",
    "outputId": "e1571365-a41a-4100-c64b-b7de493cb64e"
   },
   "outputs": [
    {
     "name": "stdout",
     "output_type": "stream",
     "text": [
      "Requirement already satisfied: praw in /Users/elena/opt/anaconda3/lib/python3.9/site-packages (7.7.1)\n",
      "Requirement already satisfied: prawcore<3,>=2.1 in /Users/elena/opt/anaconda3/lib/python3.9/site-packages (from praw) (2.4.0)\n",
      "Requirement already satisfied: update-checker>=0.18 in /Users/elena/opt/anaconda3/lib/python3.9/site-packages (from praw) (0.18.0)\n",
      "Requirement already satisfied: websocket-client>=0.54.0 in /Users/elena/opt/anaconda3/lib/python3.9/site-packages (from praw) (1.6.4)\n",
      "Requirement already satisfied: requests<3.0,>=2.6.0 in /Users/elena/opt/anaconda3/lib/python3.9/site-packages (from prawcore<3,>=2.1->praw) (2.26.0)\n",
      "Requirement already satisfied: urllib3<1.27,>=1.21.1 in /Users/elena/opt/anaconda3/lib/python3.9/site-packages (from requests<3.0,>=2.6.0->prawcore<3,>=2.1->praw) (1.26.7)\n",
      "Requirement already satisfied: certifi>=2017.4.17 in /Users/elena/opt/anaconda3/lib/python3.9/site-packages (from requests<3.0,>=2.6.0->prawcore<3,>=2.1->praw) (2021.10.8)\n",
      "Requirement already satisfied: charset-normalizer~=2.0.0 in /Users/elena/opt/anaconda3/lib/python3.9/site-packages (from requests<3.0,>=2.6.0->prawcore<3,>=2.1->praw) (2.0.4)\n",
      "Requirement already satisfied: idna<4,>=2.5 in /Users/elena/opt/anaconda3/lib/python3.9/site-packages (from requests<3.0,>=2.6.0->prawcore<3,>=2.1->praw) (3.2)\n",
      "\n",
      "\u001b[1m[\u001b[0m\u001b[34;49mnotice\u001b[0m\u001b[1;39;49m]\u001b[0m\u001b[39;49m A new release of pip is available: \u001b[0m\u001b[31;49m23.1.2\u001b[0m\u001b[39;49m -> \u001b[0m\u001b[32;49m23.3.1\u001b[0m\n",
      "\u001b[1m[\u001b[0m\u001b[34;49mnotice\u001b[0m\u001b[1;39;49m]\u001b[0m\u001b[39;49m To update, run: \u001b[0m\u001b[32;49mpip install --upgrade pip\u001b[0m\n"
     ]
    }
   ],
   "source": [
    "#!pip install praw"
   ]
  },
  {
   "cell_type": "code",
   "execution_count": 12,
   "metadata": {},
   "outputs": [],
   "source": [
    "import pandas as pd\n",
    "import praw"
   ]
  },
  {
   "cell_type": "markdown",
   "metadata": {
    "id": "UuToPGGn9L3C"
   },
   "source": [
    "Before it can be used to scrape data we need to authenticate ourselves. For this we need to create a Reddit instance and provide it with a client_id , client_secret and a user_agent . To create a Reddit application and get your id and secret you need to navigate to [this page](https://www.reddit.com/prefs/apps)."
   ]
  },
  {
   "cell_type": "code",
   "execution_count": null,
   "metadata": {},
   "outputs": [],
   "source": [
    "reddit = praw.Reddit(client_id='...',\n",
    "                     client_secret='...',\n",
    "                     user_agent='...')"
   ]
  },
  {
   "cell_type": "code",
   "execution_count": 28,
   "metadata": {},
   "outputs": [],
   "source": [
    "# Choosing subreddit, number of posts to extract\n",
    "subreddit_name = 'Pikabu'\n",
    "num_posts_to_extract = 1000 \n",
    "\n",
    "all_comments = []\n",
    "\n",
    "# Iterating through the specified number of posts in the subreddit\n",
    "for submission in reddit.subreddit(subreddit_name).new(limit=num_posts_to_extract):\n",
    "    submission.comments.replace_more(limit=None)\n",
    "\n",
    "    # Iterating through the comments and appending them to the all_comments list\n",
    "    for comment in submission.comments.list():\n",
    "        all_comments.append({\n",
    "            'Author': str(comment.author),\n",
    "            'Score': comment.score,\n",
    "            'Comment': comment.body,\n",
    "            'Submission Title': submission.title,\n",
    "        })\n",
    "\n",
    "# Export to a CSV file:\n",
    "df = pd.DataFrame(all_comments)\n",
    "df.to_csv('reddit_comments_pikabu.csv', index=False)"
   ]
  },
  {
   "cell_type": "code",
   "execution_count": 29,
   "metadata": {},
   "outputs": [
    {
     "data": {
      "text/html": [
       "<div>\n",
       "<style scoped>\n",
       "    .dataframe tbody tr th:only-of-type {\n",
       "        vertical-align: middle;\n",
       "    }\n",
       "\n",
       "    .dataframe tbody tr th {\n",
       "        vertical-align: top;\n",
       "    }\n",
       "\n",
       "    .dataframe thead th {\n",
       "        text-align: right;\n",
       "    }\n",
       "</style>\n",
       "<table border=\"1\" class=\"dataframe\">\n",
       "  <thead>\n",
       "    <tr style=\"text-align: right;\">\n",
       "      <th></th>\n",
       "      <th>Author</th>\n",
       "      <th>Score</th>\n",
       "      <th>Comment</th>\n",
       "      <th>Submission Title</th>\n",
       "    </tr>\n",
       "  </thead>\n",
       "  <tbody>\n",
       "    <tr>\n",
       "      <th>0</th>\n",
       "      <td>RECabu</td>\n",
       "      <td>2</td>\n",
       "      <td>Записал на видеокассету **[Вечное сияние чисто...</td>\n",
       "      <td>Будильник</td>\n",
       "    </tr>\n",
       "    <tr>\n",
       "      <th>1</th>\n",
       "      <td>SamSamABC1</td>\n",
       "      <td>3</td>\n",
       "      <td>может как это? - \\n\\nhttps://preview.redd.it/0...</td>\n",
       "      <td>Выглядит залипательно, как какой-то физический...</td>\n",
       "    </tr>\n",
       "    <tr>\n",
       "      <th>2</th>\n",
       "      <td>IvanovRomannn</td>\n",
       "      <td>-1</td>\n",
       "      <td>Напоминает нашу демократию</td>\n",
       "      <td>Выглядит залипательно, как какой-то физический...</td>\n",
       "    </tr>\n",
       "    <tr>\n",
       "      <th>3</th>\n",
       "      <td>RECabu</td>\n",
       "      <td>1</td>\n",
       "      <td>Записал на видеокассету **[Вспомнить всё](http...</td>\n",
       "      <td>Выглядит залипательно, как какой-то физический...</td>\n",
       "    </tr>\n",
       "    <tr>\n",
       "      <th>4</th>\n",
       "      <td>Initial-Carpenter</td>\n",
       "      <td>1</td>\n",
       "      <td>Красивое</td>\n",
       "      <td>Выглядит залипательно, как какой-то физический...</td>\n",
       "    </tr>\n",
       "  </tbody>\n",
       "</table>\n",
       "</div>"
      ],
      "text/plain": [
       "              Author  Score  \\\n",
       "0             RECabu      2   \n",
       "1         SamSamABC1      3   \n",
       "2      IvanovRomannn     -1   \n",
       "3             RECabu      1   \n",
       "4  Initial-Carpenter      1   \n",
       "\n",
       "                                             Comment  \\\n",
       "0  Записал на видеокассету **[Вечное сияние чисто...   \n",
       "1  может как это? - \\n\\nhttps://preview.redd.it/0...   \n",
       "2                         Напоминает нашу демократию   \n",
       "3  Записал на видеокассету **[Вспомнить всё](http...   \n",
       "4                                           Красивое   \n",
       "\n",
       "                                    Submission Title  \n",
       "0                                          Будильник  \n",
       "1  Выглядит залипательно, как какой-то физический...  \n",
       "2  Выглядит залипательно, как какой-то физический...  \n",
       "3  Выглядит залипательно, как какой-то физический...  \n",
       "4  Выглядит залипательно, как какой-то физический...  "
      ]
     },
     "execution_count": 29,
     "metadata": {},
     "output_type": "execute_result"
    }
   ],
   "source": [
    "df.head()"
   ]
  },
  {
   "cell_type": "code",
   "execution_count": 30,
   "metadata": {},
   "outputs": [
    {
     "name": "stdout",
     "output_type": "stream",
     "text": [
      "<class 'pandas.core.frame.DataFrame'>\n",
      "RangeIndex: 20240 entries, 0 to 20239\n",
      "Data columns (total 4 columns):\n",
      " #   Column            Non-Null Count  Dtype \n",
      "---  ------            --------------  ----- \n",
      " 0   Author            20240 non-null  object\n",
      " 1   Score             20240 non-null  int64 \n",
      " 2   Comment           20240 non-null  object\n",
      " 3   Submission Title  20240 non-null  object\n",
      "dtypes: int64(1), object(3)\n",
      "memory usage: 632.6+ KB\n"
     ]
    }
   ],
   "source": [
    "df.info()"
   ]
  }
 ],
 "metadata": {
  "colab": {
   "provenance": []
  },
  "kernelspec": {
   "display_name": "Python 3 (ipykernel)",
   "language": "python",
   "name": "python3"
  },
  "language_info": {
   "codemirror_mode": {
    "name": "ipython",
    "version": 3
   },
   "file_extension": ".py",
   "mimetype": "text/x-python",
   "name": "python",
   "nbconvert_exporter": "python",
   "pygments_lexer": "ipython3",
   "version": "3.9.7"
  }
 },
 "nbformat": 4,
 "nbformat_minor": 1
}
