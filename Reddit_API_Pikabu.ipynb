{
 "cells": [
  {
   "cell_type": "markdown",
   "metadata": {
    "id": "aiQ0ntBo9L21"
   },
   "source": [
    "# Scraping Reddit Data  "
   ]
  },
  {
   "cell_type": "markdown",
   "metadata": {
    "id": "zfmIPcS29L28"
   },
   "source": [
    "<table align=\"left\"><td>\n",
    "  <a target=\"_blank\"  href=\"https://colab.research.google.com/github/TannerGilbert/Tutorials/blob/master/Reddit%20Webscraping%20using%20PRAW/Reddit%20API.ipynb\">\n",
    "    <img src=\"https://www.tensorflow.org/images/colab_logo_32px.png\" />Run in Google Colab\n",
    "  </a>\n",
    "</td><td>\n",
    "  <a target=\"_blank\"  href=\"https://github.com/TannerGilbert/Tutorials/blob/master/Reddit%20Webscraping%20using%20PRAW/Reddit%20API.ipynb\">\n",
    "    <img width=32px src=\"https://www.tensorflow.org/images/GitHub-Mark-32px.png\" />View source on GitHub</a>\n",
    "</td></table>"
   ]
  },
  {
   "cell_type": "markdown",
   "metadata": {
    "id": "qRWeB9Ye9L2-"
   },
   "source": [
    "![](https://www.redditstatic.com/new-icon.png)  \n",
    "Using the PRAW library, a wrapper for the Reddit API, everyone can easily scrape data from Reddit or even create a Reddit bot."
   ]
  },
  {
   "cell_type": "code",
   "execution_count": 1,
   "metadata": {
    "colab": {
     "base_uri": "https://localhost:8080/"
    },
    "id": "AyhGsna29L2_",
    "outputId": "e1571365-a41a-4100-c64b-b7de493cb64e"
   },
   "outputs": [
    {
     "name": "stdout",
     "output_type": "stream",
     "text": [
      "Requirement already satisfied: praw in /Users/elena/opt/anaconda3/lib/python3.9/site-packages (7.7.1)\n",
      "Requirement already satisfied: prawcore<3,>=2.1 in /Users/elena/opt/anaconda3/lib/python3.9/site-packages (from praw) (2.4.0)\n",
      "Requirement already satisfied: update-checker>=0.18 in /Users/elena/opt/anaconda3/lib/python3.9/site-packages (from praw) (0.18.0)\n",
      "Requirement already satisfied: websocket-client>=0.54.0 in /Users/elena/opt/anaconda3/lib/python3.9/site-packages (from praw) (1.6.4)\n",
      "Requirement already satisfied: requests<3.0,>=2.6.0 in /Users/elena/opt/anaconda3/lib/python3.9/site-packages (from prawcore<3,>=2.1->praw) (2.26.0)\n",
      "Requirement already satisfied: urllib3<1.27,>=1.21.1 in /Users/elena/opt/anaconda3/lib/python3.9/site-packages (from requests<3.0,>=2.6.0->prawcore<3,>=2.1->praw) (1.26.7)\n",
      "Requirement already satisfied: certifi>=2017.4.17 in /Users/elena/opt/anaconda3/lib/python3.9/site-packages (from requests<3.0,>=2.6.0->prawcore<3,>=2.1->praw) (2021.10.8)\n",
      "Requirement already satisfied: charset-normalizer~=2.0.0 in /Users/elena/opt/anaconda3/lib/python3.9/site-packages (from requests<3.0,>=2.6.0->prawcore<3,>=2.1->praw) (2.0.4)\n",
      "Requirement already satisfied: idna<4,>=2.5 in /Users/elena/opt/anaconda3/lib/python3.9/site-packages (from requests<3.0,>=2.6.0->prawcore<3,>=2.1->praw) (3.2)\n",
      "\n",
      "\u001b[1m[\u001b[0m\u001b[34;49mnotice\u001b[0m\u001b[1;39;49m]\u001b[0m\u001b[39;49m A new release of pip is available: \u001b[0m\u001b[31;49m23.1.2\u001b[0m\u001b[39;49m -> \u001b[0m\u001b[32;49m23.3.1\u001b[0m\n",
      "\u001b[1m[\u001b[0m\u001b[34;49mnotice\u001b[0m\u001b[1;39;49m]\u001b[0m\u001b[39;49m To update, run: \u001b[0m\u001b[32;49mpip install --upgrade pip\u001b[0m\n"
     ]
    }
   ],
   "source": [
    "#!pip install praw"
   ]
  },
  {
   "cell_type": "code",
   "execution_count": 2,
   "metadata": {
    "id": "6fgm3Tez9L3C"
   },
   "outputs": [],
   "source": [
    "import praw\n",
    "import pandas as pd"
   ]
  },
  {
   "cell_type": "markdown",
   "metadata": {
    "id": "UuToPGGn9L3C"
   },
   "source": [
    "Before it can be used to scrape data we need to authenticate ourselves. For this we need to create a Reddit instance and provide it with a client_id , client_secret and a user_agent . To create a Reddit application and get your id and secret you need to navigate to [this page](https://www.reddit.com/prefs/apps)."
   ]
  },
  {
   "cell_type": "code",
   "execution_count": 3,
   "metadata": {
    "id": "ZvlbJYDx9L3D"
   },
   "outputs": [],
   "source": [
    "reddit = praw.Reddit(client_id='...',\n",
    "                     client_secret='...',\n",
    "                     user_agent='...')"
   ]
  },
  {
   "cell_type": "markdown",
   "metadata": {
    "id": "ylN6x57Z9L3F"
   },
   "source": [
    "We can get information or posts from a specifc subreddit using the reddit.subreddit method and passing it a subreddit name."
   ]
  },
  {
   "cell_type": "code",
   "execution_count": 6,
   "metadata": {
    "id": "NK1SfK9Y9L3K",
    "outputId": "a6b496e5-0554-47fc-e58c-9b818b099b0e"
   },
   "outputs": [
    {
     "name": "stdout",
     "output_type": "stream",
     "text": [
      "Not this year\n",
      "This is NOT going to end well:\n",
      "me_irl\n",
      "Trump (claimed height of 6’3) standing next to Vivek Ramaswamy (5’10)\n",
      "These kids are so pure\n",
      "Meanwhile in China\n",
      "Sports Scholarship\n",
      "American Rule\n",
      "Well done 🤣\n",
      "nobody wants to work anymore [oc]\n"
     ]
    }
   ],
   "source": [
    "# get hot posts from all subreddits\n",
    "hot_posts = reddit.subreddit('all').hot(limit=10)\n",
    "for post in hot_posts:\n",
    "    print(post.title)"
   ]
  },
  {
   "cell_type": "code",
   "execution_count": 4,
   "metadata": {
    "id": "jhCB0df79L3G"
   },
   "outputs": [],
   "source": [
    "# get 10 hot posts from the Pikabu subreddit\n",
    "hot_posts = reddit.subreddit('Pikabu').hot(limit=10)"
   ]
  },
  {
   "cell_type": "markdown",
   "metadata": {
    "id": "DCf3ELI99L3H"
   },
   "source": [
    "Now that we scraped 10 posts we can loop through them and print some information."
   ]
  },
  {
   "cell_type": "code",
   "execution_count": 5,
   "metadata": {
    "colab": {
     "base_uri": "https://localhost:8080/"
    },
    "id": "qLWZyKnC9L3I",
    "outputId": "9f69a717-440a-47b2-c172-7c3419b634aa"
   },
   "outputs": [
    {
     "name": "stdout",
     "output_type": "stream",
     "text": [
      "Военной ситуации мегатред\n",
      "Но запах! […] Это был запах… победы!\n",
      "Нюдсы на каждый день\n",
      "Циник. Злодейское [слайдер]\n",
      "Когда не в курсе последних новостей.\n",
      "Бывает ¯\\_(ツ)_/¯\n",
      "Извините, на наши 40 см не было картинки\n",
      "Румынские бандиты\n",
      "Так началось восстание машин...\n",
      "Это неправильные пчёлы (с)\n"
     ]
    }
   ],
   "source": [
    "for post in hot_posts:\n",
    "    print(post.title)"
   ]
  },
  {
   "cell_type": "code",
   "execution_count": 7,
   "metadata": {},
   "outputs": [],
   "source": [
    "# Specify the URL of the Reddit post you want to parse\n",
    "post_url = 'https://www.reddit.com/r/Pikabu/comments/110gz4q/наггетсы_проверенный_рецепт/'\n",
    "\n",
    "# Create a submission object for the post\n",
    "submission = reddit.submission(url=post_url)"
   ]
  },
  {
   "cell_type": "code",
   "execution_count": 9,
   "metadata": {
    "colab": {
     "base_uri": "https://localhost:8080/",
     "height": 1000
    },
    "id": "5ENXiS2V9L3O",
    "outputId": "071cd715-e822-450e-eaa7-e7c3991753b1"
   },
   "outputs": [
    {
     "name": "stdout",
     "output_type": "stream",
     "text": [
      "- 1 кг куриного филе \n",
      "- 150г. панировочных сухарей. \n",
      "- 150г кукурузных хлопьев.\n",
      "- 2 ст.л. кукурузной муки. Либо обычной пшеничной.\n",
      "- 1 ч.л. с горкой паприки\n",
      "- 1 ч.л. с горкой сухого чеснока\n",
      "- 3 ч.л. с горкой соли\n",
      "- 3/4 ч.л. черного перца.\n",
      "- 2 ст.л. молока или нежирных сливок\n",
      "- 2 яйца\n",
      "- сахар -2ч.л.\n",
      "- растительное масло\n",
      "++++++++++++++++++++++++++++\n",
      "- Мясо минут за 20 забросить в морозилку, чтобы его легче было аккуратно нарезать.\n",
      "- Хлопья измельчить в блендере пока они не станут размером примерно с фракцию ваших сухарей. \n",
      "- Все специи объединить вместе с солью и перемешать.\n",
      "- В большой миске смешать сухари, хлопья, муку,сахар и половину пряностей с солью.\n",
      "- В другой емкости смешать яйца, молоко и оставшуюся половину пряностей. Перемешать, но не взбивать.\n",
      "- Нарезать куриное филе достаточно крупно.\n",
      "- Забросить курицу в яичную смесь и хорошо перемешать, чтобы все было покрыто. Оставить минут на 5.\n",
      "- Противень застелить пергаментом. \n",
      "- Каждый кусок курицы кидать в миску с панировочной смесью и хорошо его там обвалять, прижимая. \n",
      "- Выложить на противень. \n",
      "- побрызгать маслом\n",
      "- Запекать 18-22 минуты при 200С. Если есть конвекция, включаем. Нагрев верх-низ\n",
      "А вот и рецептики пошли.\n",
      "Забросил курицу в яичную смесь. Курица офигела и убежала. Еле поймал. Перемешать не получилось\n",
      "Берёшь пучок укропу....\n",
      "Приятного аппетита. На вид выглядит вкусно!\n",
      "Сохранил 🙃\n",
      "Так, а что ты ещё с курицей вытворяешь? Есть еще рецепты?\n",
      "Как готовить мясо более менее ясно, с курицей так вообще есть kfc. А вот соус это целая наука. Они зачастую в каждом заведении разные. Так что если есть годные соусы - давай)\n",
      " Спасибо, сохраню и этот тоже: за рецепт сосисок в тесте тоже отдельное спасибо! Как по мне тесто какое-то не такое, я бы лучше с молоком - попробую тесто из рецепта хачапури. Думаю, что тоже поделюсь рецептом хачапури, раз теперь тут и рецепты пихаем :)\n",
      "Я куриную грудку режу на брусочки по 1-1,5 см толщиной, обваливаю в муке (в муке уже соль и специи), затем макаю в яйцо. А в конце обваливаю в чипсах, которые предварительно сильно измельчаю. Жарю в масле. Масла наливаю столько, чтобы брусочки скрывало. Жарятся быстро\n",
      "Бля никогда эта хуйня не нравилась. Лучше Трипл Вупер в Бургер Кинге навернуть\n"
     ]
    }
   ],
   "source": [
    "for top_level_comment in submission.comments:\n",
    "    print(top_level_comment.body)"
   ]
  },
  {
   "cell_type": "code",
   "execution_count": 28,
   "metadata": {},
   "outputs": [],
   "source": [
    "# Choosing subreddit, number of posts to extract\n",
    "subreddit_name = 'Pikabu'\n",
    "num_posts_to_extract = 1000 \n",
    "\n",
    "all_comments = []\n",
    "\n",
    "# Iterating through the specified number of posts in the subreddit\n",
    "for submission in reddit.subreddit(subreddit_name).new(limit=num_posts_to_extract):\n",
    "    submission.comments.replace_more(limit=None)\n",
    "\n",
    "    # Iterating through the comments and appending them to the all_comments list\n",
    "    for comment in submission.comments.list():\n",
    "        all_comments.append({\n",
    "            'Author': str(comment.author),\n",
    "            'Score': comment.score,\n",
    "            'Comment': comment.body,\n",
    "            'Submission Title': submission.title,\n",
    "        })\n",
    "\n",
    "# Export to a CSV file:\n",
    "df = pd.DataFrame(all_comments)\n",
    "df.to_csv('reddit_comments_pikabu.csv', index=False)"
   ]
  },
  {
   "cell_type": "code",
   "execution_count": 29,
   "metadata": {},
   "outputs": [
    {
     "data": {
      "text/html": [
       "<div>\n",
       "<style scoped>\n",
       "    .dataframe tbody tr th:only-of-type {\n",
       "        vertical-align: middle;\n",
       "    }\n",
       "\n",
       "    .dataframe tbody tr th {\n",
       "        vertical-align: top;\n",
       "    }\n",
       "\n",
       "    .dataframe thead th {\n",
       "        text-align: right;\n",
       "    }\n",
       "</style>\n",
       "<table border=\"1\" class=\"dataframe\">\n",
       "  <thead>\n",
       "    <tr style=\"text-align: right;\">\n",
       "      <th></th>\n",
       "      <th>Author</th>\n",
       "      <th>Score</th>\n",
       "      <th>Comment</th>\n",
       "      <th>Submission Title</th>\n",
       "    </tr>\n",
       "  </thead>\n",
       "  <tbody>\n",
       "    <tr>\n",
       "      <th>0</th>\n",
       "      <td>RECabu</td>\n",
       "      <td>2</td>\n",
       "      <td>Записал на видеокассету **[Вечное сияние чисто...</td>\n",
       "      <td>Будильник</td>\n",
       "    </tr>\n",
       "    <tr>\n",
       "      <th>1</th>\n",
       "      <td>SamSamABC1</td>\n",
       "      <td>3</td>\n",
       "      <td>может как это? - \\n\\nhttps://preview.redd.it/0...</td>\n",
       "      <td>Выглядит залипательно, как какой-то физический...</td>\n",
       "    </tr>\n",
       "    <tr>\n",
       "      <th>2</th>\n",
       "      <td>IvanovRomannn</td>\n",
       "      <td>-1</td>\n",
       "      <td>Напоминает нашу демократию</td>\n",
       "      <td>Выглядит залипательно, как какой-то физический...</td>\n",
       "    </tr>\n",
       "    <tr>\n",
       "      <th>3</th>\n",
       "      <td>RECabu</td>\n",
       "      <td>1</td>\n",
       "      <td>Записал на видеокассету **[Вспомнить всё](http...</td>\n",
       "      <td>Выглядит залипательно, как какой-то физический...</td>\n",
       "    </tr>\n",
       "    <tr>\n",
       "      <th>4</th>\n",
       "      <td>Initial-Carpenter</td>\n",
       "      <td>1</td>\n",
       "      <td>Красивое</td>\n",
       "      <td>Выглядит залипательно, как какой-то физический...</td>\n",
       "    </tr>\n",
       "  </tbody>\n",
       "</table>\n",
       "</div>"
      ],
      "text/plain": [
       "              Author  Score  \\\n",
       "0             RECabu      2   \n",
       "1         SamSamABC1      3   \n",
       "2      IvanovRomannn     -1   \n",
       "3             RECabu      1   \n",
       "4  Initial-Carpenter      1   \n",
       "\n",
       "                                             Comment  \\\n",
       "0  Записал на видеокассету **[Вечное сияние чисто...   \n",
       "1  может как это? - \\n\\nhttps://preview.redd.it/0...   \n",
       "2                         Напоминает нашу демократию   \n",
       "3  Записал на видеокассету **[Вспомнить всё](http...   \n",
       "4                                           Красивое   \n",
       "\n",
       "                                    Submission Title  \n",
       "0                                          Будильник  \n",
       "1  Выглядит залипательно, как какой-то физический...  \n",
       "2  Выглядит залипательно, как какой-то физический...  \n",
       "3  Выглядит залипательно, как какой-то физический...  \n",
       "4  Выглядит залипательно, как какой-то физический...  "
      ]
     },
     "execution_count": 29,
     "metadata": {},
     "output_type": "execute_result"
    }
   ],
   "source": [
    "df.head()"
   ]
  },
  {
   "cell_type": "code",
   "execution_count": 30,
   "metadata": {},
   "outputs": [
    {
     "name": "stdout",
     "output_type": "stream",
     "text": [
      "<class 'pandas.core.frame.DataFrame'>\n",
      "RangeIndex: 20240 entries, 0 to 20239\n",
      "Data columns (total 4 columns):\n",
      " #   Column            Non-Null Count  Dtype \n",
      "---  ------            --------------  ----- \n",
      " 0   Author            20240 non-null  object\n",
      " 1   Score             20240 non-null  int64 \n",
      " 2   Comment           20240 non-null  object\n",
      " 3   Submission Title  20240 non-null  object\n",
      "dtypes: int64(1), object(3)\n",
      "memory usage: 632.6+ KB\n"
     ]
    }
   ],
   "source": [
    "df.info()"
   ]
  }
 ],
 "metadata": {
  "colab": {
   "provenance": []
  },
  "kernelspec": {
   "display_name": "Python 3 (ipykernel)",
   "language": "python",
   "name": "python3"
  },
  "language_info": {
   "codemirror_mode": {
    "name": "ipython",
    "version": 3
   },
   "file_extension": ".py",
   "mimetype": "text/x-python",
   "name": "python",
   "nbconvert_exporter": "python",
   "pygments_lexer": "ipython3",
   "version": "3.9.7"
  }
 },
 "nbformat": 4,
 "nbformat_minor": 1
}
